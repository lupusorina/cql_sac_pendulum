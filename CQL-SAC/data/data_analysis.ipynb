{
 "cells": [
  {
   "cell_type": "code",
   "execution_count": 1,
   "metadata": {},
   "outputs": [
    {
     "name": "stdout",
     "output_type": "stream",
     "text": [
      "192275\n",
      "observations_np: (192275, 3)\n",
      "actions_np: (192275, 1)\n",
      "rewards: (192275,)\n",
      "terminations: (192275,)\n"
     ]
    }
   ],
   "source": [
    "import pandas as pd\n",
    "import numpy as np\n",
    "from torch.utils.data import DataLoader, TensorDataset\n",
    "import ast\n",
    "import torch\n",
    "\n",
    "batch_size = 256\n",
    "\n",
    "DATASET_FOLDER = 'data'\n",
    "FILENAME = 'data_pendulum_5000.csv'\n",
    "EXTRACT_DATA = True\n",
    "df = pd.read_csv(f'{FILENAME}')\n",
    "# keep only first 1000 samples\n",
    "print(len(df))\n",
    "\n",
    "if EXTRACT_DATA == True:\n",
    "    observation_list = []\n",
    "    action_list = []\n",
    "    for item in df['states']:\n",
    "        observation_list.append(ast.literal_eval(item))\n",
    "    for item in df['actions']:\n",
    "        action_list.append(ast.literal_eval(item))\n",
    "\n",
    "    actions_np = np.array(action_list)\n",
    "    observations_np = np.array(observation_list)\n",
    "    # save the numpy arrays.\n",
    "    np.save('observations.npy', observations_np)\n",
    "    np.save('actions.npy', actions_np)\n",
    "else:\n",
    "    observations_np = np.load('observations.npy')\n",
    "    actions_np = np.load('actions.npy')\n",
    "\n",
    "rewards = df['reward'].values\n",
    "terminations = df['done'].values\n",
    "\n",
    "print('observations_np:', observations_np.shape)\n",
    "print('actions_np:', actions_np.shape)\n",
    "print('rewards:', rewards.shape)\n",
    "print('terminations:', terminations.shape)\n",
    "\n",
    "tensors = {}\n",
    "tensors[\"observations\"] = torch.tensor(observations_np, dtype=torch.float32)\n",
    "tensors[\"actions\"] = torch.tensor(actions_np, dtype=torch.float32)\n",
    "tensors[\"rewards\"] = torch.tensor(rewards, dtype=torch.float32)\n",
    "tensors[\"next_observations\"] = torch.cat([tensors[\"observations\"][1:], torch.tensor(observations_np[-1:])[0][None]], dim=0)\n",
    "tensors[\"terminals\"] = torch.tensor(terminations, dtype=torch.float32)\n",
    "tensordata = TensorDataset(tensors[\"observations\"],\n",
    "                            tensors[\"actions\"],\n",
    "                            tensors[\"rewards\"][:, None],\n",
    "                            tensors[\"next_observations\"],\n",
    "                            tensors[\"terminals\"][:, None])\n",
    "dataloader = DataLoader(tensordata, batch_size=batch_size, shuffle=True)\n",
    "    "
   ]
  },
  {
   "cell_type": "code",
   "execution_count": null,
   "metadata": {},
   "outputs": [],
   "source": [
    "theta_angle = np.arctan2(observations_np[:, 1], observations_np[:, 0])\n",
    "\n",
    "\n",
    "# plot histograms\n",
    "import matplotlib.pyplot as plt\n",
    "fig, ax = plt.subplots(2, 3, figsize=(15, 5))\n",
    "ax[0, 0].hist(observations_np[:, 0], bins=20, label='cos(theta)', color='r')\n",
    "ax[0, 1].hist(observations_np[:, 1], bins=20, label='sin(theta)', color='g')\n",
    "ax[0, 2].hist(observations_np[:, 2], bins=20, label='theta_dot', color='b')\n",
    "ax[1, 0].hist(theta_angle, bins=20, label='theta', color='y')\n",
    "ax[1, 1].hist(actions_np[:, 0], bins=20, label='action', color='c')\n",
    "ax[1, 2].hist(rewards, bins=20, label='rewards')\n",
    "\n",
    "for i in range(2):\n",
    "    for j in range(3):\n",
    "        ax[i, j].legend(loc='upper right')\n",
    "plt.show()"
   ]
  },
  {
   "cell_type": "code",
   "execution_count": null,
   "metadata": {},
   "outputs": [],
   "source": [
    "# plot heatmap\n",
    "fig, ax = plt.subplots(1, 1, figsize=(3, 3))\n",
    "h = ax.hist2d(theta_angle, observations_np[:, 2], bins=30, cmap='RdBu')\n",
    "# add legend\n",
    "\n",
    "fig.colorbar(h[3], ax=ax, label='Frequency')\n",
    "ax.set_title('Heatmap of Angle vs Angular Velocity')\n",
    "\n",
    "ax.set_xlabel('Angle')\n",
    "ax.set_ylabel('Angular Velocity')"
   ]
  },
  {
   "cell_type": "code",
   "execution_count": null,
   "metadata": {},
   "outputs": [],
   "source": [
    "does_it_sum_to_1 = observations_np[:, 0]**2 + observations_np[:, 1]**2\n",
    "assert np.allclose(does_it_sum_to_1, 1, atol=1e-6), \"The sum of the squares of the cos and sin of the angle should be 1\""
   ]
  }
 ],
 "metadata": {
  "kernelspec": {
   "display_name": "base",
   "language": "python",
   "name": "python3"
  },
  "language_info": {
   "codemirror_mode": {
    "name": "ipython",
    "version": 3
   },
   "file_extension": ".py",
   "mimetype": "text/x-python",
   "name": "python",
   "nbconvert_exporter": "python",
   "pygments_lexer": "ipython3",
   "version": "3.12.7"
  }
 },
 "nbformat": 4,
 "nbformat_minor": 2
}
